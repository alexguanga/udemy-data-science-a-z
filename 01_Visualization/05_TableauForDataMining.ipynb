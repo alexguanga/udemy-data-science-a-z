{
 "cells": [
  {
   "cell_type": "markdown",
   "metadata": {},
   "source": [
    "# Section 5"
   ]
  },
  {
   "cell_type": "markdown",
   "metadata": {},
   "source": [
    "- If you have a specific location in your file, you can use this. \n",
    "    - Right-click the title and change to geography and use its respective type of geography. This will display thea actual location of the observation. \n",
    "- When comparing men and women who left, we can add percentage to check their relative comparsion. \n",
    "- Holding everything equal, females leave more than men. This is NOT a statistical test. Just a quickview.\n",
    "- Make sure you change the alias of key indicators if necessary.\n",
    "- Reference line: A benchmark that can be generalized for the entire dataset. In this case, its 80% of people leave the banks. \n",
    "- You can qucikly duplicate tabs into new tabs\n",
    "- When looking at the category \"Num of Products,\" we have to check its absolute value rather than its relative, to get a better sense of the actual information (the sample size might be smaller).\n",
    "- ** In order the validate your data, make sure you look at information that cannot affect the output. For example, we used the last digit of the CUSTOMER ID, and on average, 80% stayed. **\n",
    "- Do not use letters, numbers are better. Some letters are more frequent than others.\n",
    "\n",
    "- To make the graphs the same level, we have to drag the sum from the MARKS to the COLUMN"
   ]
  },
  {
   "cell_type": "markdown",
   "metadata": {},
   "source": [
    "### Adding Reference Line\n",
    "- This is useful when you want to compare with a benchmark\n",
    "- Look at the people who left the bank, regardless of any features\n",
    "- Simple way: can take out the row and the chart will colapse to the overall exit rate\n",
    "- Validating your data/approach, to check there's a uniform distribution to avoid any errors on the data"
   ]
  },
  {
   "cell_type": "markdown",
   "metadata": {},
   "source": [
    "### Section Recap\n",
    "- Connecting Excel to Tableau\n",
    "- How to visualize an Ad-Hoc AB-Test. Good way to check the visualize and have some understanding of variable that are important\n",
    "- Creating aliases, renaming them\n",
    "- Adding a reference line to your chart\n",
    "- Using Ad-Hoc AB-Test to find anomalies, like when the number of products increased, the percentage of exited increased\n",
    "- Validating your data/approach, to check there's a uniform distribution to avoid any errors on the data"
   ]
  }
 ],
 "metadata": {
  "kernelspec": {
   "display_name": "Python 3",
   "language": "python",
   "name": "python3"
  },
  "language_info": {
   "codemirror_mode": {
    "name": "ipython",
    "version": 3
   },
   "file_extension": ".py",
   "mimetype": "text/x-python",
   "name": "python",
   "nbconvert_exporter": "python",
   "pygments_lexer": "ipython3",
   "version": "3.6.0"
  }
 },
 "nbformat": 4,
 "nbformat_minor": 2
}
