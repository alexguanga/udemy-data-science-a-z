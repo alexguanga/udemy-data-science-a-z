{
 "cells": [
  {
   "cell_type": "markdown",
   "metadata": {},
   "source": [
    "# Section 17: Business Intelligence"
   ]
  },
  {
   "cell_type": "markdown",
   "metadata": {},
   "source": [
    "### Lecture 104: What is a Data Warehouse?\n",
    "- Storing the data in a relational database\n",
    "- It is specific for data for visuals\n",
    "- Relational Database: \n",
    "    - Data is store in data that can be linked through a common key\n",
    "- Database is better than excel because \n",
    "    - of integrity, columns can only have specific datatypes\n",
    "    - combining dataset is easy\n",
    "    - easily scalable, can have lots of row\n",
    "- Use interactions for more control over how potential customers connect with your business."
   ]
  },
  {
   "cell_type": "markdown",
   "metadata": {},
   "source": [
    "### Lecture 107: ETL\n",
    "- Extract, Transform, Load\n",
    "- The data could be in many different forms\n",
    "- For serious data science can be dangerous in analyzing the store \n",
    "- Its better to extract and put in a data warehouse\n",
    "- Must remove anomalities"
   ]
  },
  {
   "cell_type": "markdown",
   "metadata": {},
   "source": [
    "### Lecture 108: Microsoft Tools\n",
    "- MSVS: Microsoft Visual Studio (Shell)\n",
    "- SSDT-BI: SQL Server Data Tools - Business Intelligence \n",
    "- SSDT is for buidling databases\n",
    "- SSDT-BI is for buidling SSIS/SSAS/SSRS solution\n",
    "    - SSAS: Analyzing data\n",
    "    - SSIS: ETL\n",
    "    - SSRS: Visualize\n",
    "- But these process is not the main core for data scientist\n",
    "- The analyzing is used with Python and R\n",
    "- The visualizing is used with Tableau\n",
    "- We will be using an MSVS Shell to run the SSDT-BI because we need SSIS to perform our ETL"
   ]
  }
 ],
 "metadata": {
  "kernelspec": {
   "display_name": "Python 3",
   "language": "python",
   "name": "python3"
  },
  "language_info": {
   "codemirror_mode": {
    "name": "ipython",
    "version": 3
   },
   "file_extension": ".py",
   "mimetype": "text/x-python",
   "name": "python",
   "nbconvert_exporter": "python",
   "pygments_lexer": "ipython3",
   "version": "3.6.0"
  }
 },
 "nbformat": 4,
 "nbformat_minor": 2
}
