{
 "cells": [
  {
   "cell_type": "markdown",
   "metadata": {},
   "source": [
    "# Section 6\n",
    "### Creating bins and visualizing distributions\n",
    "- When working with age, remember that the data is being aggrated. Thus, you have to \n",
    "    - Right click + control and click on the dimensions\n",
    "- To create bins: \n",
    "    - Right Click + Control on desired Measures\n",
    "    - Click Create -> Bins\n",
    "    - Choose the desired bins size\n",
    "- To fix the axis to percentage:\n",
    "    - After the Table Calculuation is created, you must Command + Drag it back to Row\n",
    "- Also, to add the color palette, control and drag the row in the color factor\n",
    "- People from 45-60 age bracket leaves the most\n",
    "- When adding two graphs, check the Age tab, we simply added one column and types of row\n",
    "     - There are three mark (all, and each graph has their respective mark)\n",
    "     - For it to work, it must be a measure and not a dimension\n",
    "\n",
    "### Creating a classification test\n",
    "- When there's information in the tails, it is important to analyze those data to better understand the information\n",
    "\n",
    "### Combining two chats\n",
    "- You have to make sure that they have the same row values, so they can align with one another\n",
    "- In \"Marks,\" you will have new implementation of tabs among the table (can use a lot of tabs or just oe of the tabs)\n",
    "- To switch the placing of the charts, just change them in the Rows\n",
    "\n",
    "###  Validating Tableau Data Mining with Chi-Squared\n",
    "- Using the https://www.evanmiller.org/ab-testing/chi-squared.html, we found that group 1 or female, are more likely to exit and it had a p-value of less than 0.001.\n",
    "- For CRCard, there was no signficance difference!\n",
    "- For Active members, Non-members has a signficance difference\n",
    "- For more than two variables: use vassarstats.net\n",
    "    - But there's a better approach. Compare it with two differencet variables, if there's statisical significance there, then there must be a significance across all the categories\n",
    "    \n",
    "### Chi-Squared with more than two variables\n",
    "- Shortcut would be to check one category aganst the other cstegories and if they do look different, then it must be the case that tit is statistically signficant result.\n",
    "\n",
    "### Visualizing Balance/Tenure/Credit_Score\n",
    "- Remember that if you have information for a row that you do not think could bring much value, like a row being equal to 0, then you can right click and exclude it.\n",
    "- Redo the same step\n",
    "- If we look at the bottom graph, we can say that we do need to check further into the data\n",
    "- But if we look at the top of the graph, the distribution is a bit off. How can it be that people that are earning 180K be the same as the people that are earning 50K?\n",
    "- INSIGHTS: There's something wrong with the way that they are predicting Estimated Salary, it should be Balance should have a similar distribution as Estimated Salary but it is not and it has an uniform distribution\n",
    "- INSIGHTS: Credit Score looks compelling but tenure does show something wrong as well. Why do people who have a longer tenure, meaning they have stayed with the bank longest, why are they having the same prob. as those new people? They should have stayed longer. \n",
    "\n",
    "### Bonus: Chi-Squared\n",
    "- Tells you the prob. of independence. It assumes that there is no depedence between the categories\n",
    "- It cannot tell you the relationship of the category\n",
    "- Cannot use %, must use absolute values\n",
    "- Categories must be Mutually Exclusive\n",
    "- Never include one of the outcomes\n",
    "- Minimum of 5 observations in your cells"
   ]
  }
 ],
 "metadata": {
  "kernelspec": {
   "display_name": "Python 3",
   "language": "python",
   "name": "python3"
  },
  "language_info": {
   "codemirror_mode": {
    "name": "ipython",
    "version": 3
   },
   "file_extension": ".py",
   "mimetype": "text/x-python",
   "name": "python",
   "nbconvert_exporter": "python",
   "pygments_lexer": "ipython3",
   "version": "3.6.0"
  }
 },
 "nbformat": 4,
 "nbformat_minor": 2
}
