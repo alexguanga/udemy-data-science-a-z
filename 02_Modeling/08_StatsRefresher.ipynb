{
 "cells": [
  {
   "cell_type": "markdown",
   "metadata": {},
   "source": [
    "# Section 8\n",
    "\n",
    "### Variables\n",
    "- Categorical\n",
    "     - Nominal: Remember Names and these are things that cannot be ordered\n",
    "     - Ordinal: Can be ranked/ordered (like Small, Medium, and Large)\n",
    "- Numeric\n",
    "    - Discrete: These are whole numbers (how many cars are outside?)\n",
    "    - Continous: These can be parts, like the amount of money you have to pay for a house (232.221)\n",
    "    \n",
    "### Regression\n",
    "- Linear\n",
    "    - Simple linear regression\n",
    "    - Multiple linear regression\n",
    "- Logistic\n",
    "    - Simple logistic regression\n",
    "    - Multiple logistic regression\n",
    "    \n",
    "### Ordinary Least Squares\n",
    "\n",
    "\n",
    "### R-Squared\n",
    "- Closer to 1 the better\n",
    "- Closer to 0 the worse\n",
    "- The SS total is the total difference from the actual observation and the average\n",
    "- The SS residual is the difference from the actual observation and the point in the linear regression\n",
    "- The closer the line is to the residual, the larger the R^2 meaning the line fits the observation better\n",
    "- Formula:  r^2 = 1 - (SS_Residual/SS_Total)\n",
    "\n",
    "### Adjusted R-Squared\n",
    "- The R_squared is good untill we start more variables\n",
    "- When we add a new variable, we are looking for a way to better fit the observations without the ability to have any penalties\n",
    "- Thus, either R-Squared will it either decrease or stay the same with new variables\n",
    "- Adjusted R-Squared penalizes it because the more you variable you are adding to the model, the further you are from 1\n",
    "- /Users/alexguanga/Dropbox/Screenshots/AZ-1"
   ]
  }
 ],
 "metadata": {
  "kernelspec": {
   "display_name": "Python 3",
   "language": "python",
   "name": "python3"
  },
  "language_info": {
   "codemirror_mode": {
    "name": "ipython",
    "version": 3
   },
   "file_extension": ".py",
   "mimetype": "text/x-python",
   "name": "python",
   "nbconvert_exporter": "python",
   "pygments_lexer": "ipython3",
   "version": "3.6.0"
  }
 },
 "nbformat": 4,
 "nbformat_minor": 2
}
