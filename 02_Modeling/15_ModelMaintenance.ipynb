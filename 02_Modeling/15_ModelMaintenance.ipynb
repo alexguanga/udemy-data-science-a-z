{
 "cells": [
  {
   "cell_type": "markdown",
   "metadata": {},
   "source": [
    "# Section 15: Model Maintenance"
   ]
  },
  {
   "cell_type": "markdown",
   "metadata": {},
   "source": [
    "### Lecture 97: What does model deterioration look like?\n",
    "- In a CAP Curve: \n",
    "    - The reason that the CAP Curve works for the red line is that it looks at the actually people who left. Say in the first 10 people, our model says we have predicted 7 out of the 10. Then that's good because those are the people who have been placed as the most likely to exit and the model did it correct for the first 10 people. \n",
    "    - If the vertical interception is less than 60% - **Rubbish**\n",
    "    - If the vertical interception is between 60% and 70% - **Poor**\n",
    "    - If the vertical interception is between 70% and 80% - **Good**\n",
    "    - If the vertical interception is between 80% and 90% - **Very Good**\n",
    "    - If the vertical interception is between 90% and 100% - **Too Good**\n",
    "- Sometimes you can have a model that does not work as good as it did when in the beginning. This called a model deteriorating. "
   ]
  },
  {
   "cell_type": "markdown",
   "metadata": {},
   "source": [
    "### Lecture 98: Why does models deteriorate?\n",
    "- Possible Reasons\n",
    "    - There were additional features that we not taken into account\n",
    "    - Changes in behavior\n",
    "    - Changes in the process of the products\n",
    "    - Changes in existing factors (like people get older) or economic issues in the macro-level\n",
    "    - New competitors\n",
    "    - Changes in the industry\n",
    "    - Changes in regulation (gov.)\n",
    "    - Changes in the product (sometimes you buy this model for a specific model) and then you create a new model that will affect the demand for the current product\n",
    "    - Depletion because the population changs. Say you apply it the probable people then you have them and you apply it to the general public which are less prob. people\n",
    "    - Spontaneous Changes like some of the changes happen quickly\n",
    "<img src=\"../images/AZ_15_1.png\" alt=\"Drawing\" style=\"width: 400px;\">\n",
    "- Some explanation for the given graph could be from categorical information Like say people in France and Germany have different taste. The kink would be from another country.\n",
    "<img src=\"../images/AZ_15_2.png\" alt=\"Drawing\" style=\"width: 400px;\">\n",
    "- People who were predicted in the graph above, the upper part are leaving. "
   ]
  },
  {
   "cell_type": "markdown",
   "metadata": {},
   "source": [
    "### Lecture 99: Three levels of maintenance\n",
    "- A: Assess, you have to assess the model and check its performance. Do it frequently to check if its still performing great! Create the CAP Curve and check how better it is than the normal.\n",
    "- R: Retrain, implies keeping the variables you already found out how signficance. You must give your datasets a fresh new train samples to get new coefficients for the model. You can then deploy the model and monitor it a bit more frequent. \n",
    "- R: Rebuild, you have to redo the entire model from scratch. Find the variables and do the process all over again. Once you have a new model and run it by side by side with the original model. Check the comparision btw. both and check their performance. \n",
    "- Assess your models every 6 months (atleast), or maybe do it three months."
   ]
  }
 ],
 "metadata": {
  "kernelspec": {
   "display_name": "Python 3",
   "language": "python",
   "name": "python3"
  },
  "language_info": {
   "codemirror_mode": {
    "name": "ipython",
    "version": 3
   },
   "file_extension": ".py",
   "mimetype": "text/x-python",
   "name": "python",
   "nbconvert_exporter": "python",
   "pygments_lexer": "ipython3",
   "version": "3.6.0"
  }
 },
 "nbformat": 4,
 "nbformat_minor": 2
}
