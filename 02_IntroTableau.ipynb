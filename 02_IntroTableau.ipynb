{
 "cells": [
  {
   "cell_type": "markdown",
   "metadata": {},
   "source": [
    "# Section 2: Intro to Tableau"
   ]
  },
  {
   "cell_type": "markdown",
   "metadata": {},
   "source": [
    "- Since 2005, there has been 130 Exabytes\n",
    "- To 2010, it was 1200 Exabytes\n",
    "- To 2015, it was 7900 Exabytes\n",
    "- By 2020, it will be 40,900 Exabytes"
   ]
  },
  {
   "cell_type": "markdown",
   "metadata": {},
   "source": [
    "- Data Mining is the creative part of the work. See you things that have never been seen before\n",
    "- Data Process: Cleaning the data"
   ]
  },
  {
   "cell_type": "markdown",
   "metadata": {},
   "source": [
    "- Lesson Taught:\n",
    "1. How to connect Tableau with a csv file: text file\n",
    "2. How to navigate Tableau\n",
    "3. The difference btw. measures and dimensions\n",
    "    - Use different methods of bars and adding the filters towards specific measures\n",
    "4. How to naviagate a Calculated Field\n",
    "5. At least 3 ways to add colors in Tableau\n",
    "6. How to export your worksheet. Do not think I can do this unless I screen shot (do not have the desktop version)\n"
   ]
  },
  {
   "cell_type": "markdown",
   "metadata": {},
   "source": [
    "- Questions\n",
    "1. What are the two main groups that all fields are broken up into in Tableau?\n",
    "     - Dimensions and Measures\n",
    "2. What are calculated fields in Tableau?\n",
    "     - These are customs variables that you create from fields provided in the Data\n",
    "     "
   ]
  }
 ],
 "metadata": {
  "kernelspec": {
   "display_name": "Python 3",
   "language": "python",
   "name": "python3"
  },
  "language_info": {
   "codemirror_mode": {
    "name": "ipython",
    "version": 3
   },
   "file_extension": ".py",
   "mimetype": "text/x-python",
   "name": "python",
   "nbconvert_exporter": "python",
   "pygments_lexer": "ipython3",
   "version": "3.6.0"
  }
 },
 "nbformat": 4,
 "nbformat_minor": 2
}
