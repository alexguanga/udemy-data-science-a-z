{
 "cells": [
  {
   "cell_type": "markdown",
   "metadata": {},
   "source": [
    "# Section 19: ETL Phase 1"
   ]
  },
  {
   "cell_type": "markdown",
   "metadata": {},
   "source": [
    "### Lecture 118\n",
    "- It's always good first adding the name of the date in the data flow task, good convention\n",
    "- The tool box changes depending where we are in the hierarchy\n",
    "- Flat File source is the CSV File we will be adding in the Data Flow task or control panel\n",
    "- Always connect the file you want to use, he used the blue arrow\n",
    "- The type of connections that will be used in the **Data Flow** tab is the **Flat Source File** and **OLE DB Connection**\n",
    "- Blue arrow for connection\n",
    "- Red arrow for error"
   ]
  },
  {
   "cell_type": "markdown",
   "metadata": {
    "collapsed": true
   },
   "source": [
    "### Lecture 119: Setting up your flat file source connection\n",
    "- Always set up the folder structure with corrects paths and backup files\n",
    "- A couple of checks is to check the last column to see if there are any columns that should not be required\n",
    "- Secondly, check the last columns and the rows (to check for their values)\n",
    "- In the Flat File Connection Manager, make sure that you check for the value to be STRINGS\n",
    "- Do not change them in the connection manager\n",
    "- Also, double check for the amount of characters that are allocated for the file\n",
    "    - 1000 characters is a safe bet"
   ]
  }
 ],
 "metadata": {
  "kernelspec": {
   "display_name": "Python 3",
   "language": "python",
   "name": "python3"
  },
  "language_info": {
   "codemirror_mode": {
    "name": "ipython",
    "version": 3
   },
   "file_extension": ".py",
   "mimetype": "text/x-python",
   "name": "python",
   "nbconvert_exporter": "python",
   "pygments_lexer": "ipython3",
   "version": "3.6.0"
  }
 },
 "nbformat": 4,
 "nbformat_minor": 2
}
